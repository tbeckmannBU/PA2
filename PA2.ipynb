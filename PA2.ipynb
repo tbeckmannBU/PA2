{
 "cells": [
  {
   "cell_type": "markdown",
   "id": "e655c383",
   "metadata": {},
   "source": [
    "# Tristan Beckmann\n",
    "\n",
    "# 2023SP Computer Prog for Liberal Arts (CS-150-01)\n",
    "## Programming Assignment 2 - Version 1\n",
    "### Spring 2023"
   ]
  },
  {
   "cell_type": "code",
   "execution_count": 6,
   "id": "d9217adc",
   "metadata": {},
   "outputs": [
    {
     "name": "stdout",
     "output_type": "stream",
     "text": [
      "Enter a integer number: 24\n",
      "Enter a floating point number: 28.6\n",
      "The sum is 52.6\n",
      "The difference is -4.600000000000001\n",
      "The product is 686.4000000000001\n",
      "The quotient is 0.8391608391608392\n"
     ]
    }
   ],
   "source": [
    "number1=int(input(\"Enter a integer number: \"))\n",
    "number2=float(input(\"Enter a floating point number: \"))\n",
    "print(\"The sum is\", number1+number2)\n",
    "print(\"The difference is\", number1-number2)\n",
    "print(\"The product is\", number1*number2)\n",
    "print(\"The quotient is\", number1/number2)"
   ]
  },
  {
   "cell_type": "code",
   "execution_count": 5,
   "id": "ee73cd2d",
   "metadata": {},
   "outputs": [
    {
     "name": "stdout",
     "output_type": "stream",
     "text": [
      "The type for the sum result is <class 'float'>\n",
      "The type for the difference result is <class 'float'>\n",
      "The type for the product result is <class 'float'>\n",
      "The type for the quotient result is <class 'float'>\n"
     ]
    }
   ],
   "source": [
    "number3=52.6\n",
    "number4=-4.600000000000001\n",
    "number5=686.4000000000001\n",
    "number6=0.8391608391608392\n",
    "print(\"The type for the sum result is\", (type(number3)))\n",
    "print(\"The type for the difference result is\", (type(number4)))\n",
    "print(\"The type for the product result is\", (type(number5)))\n",
    "print(\"The type for the quotient result is\", (type(number6)))"
   ]
  }
 ],
 "metadata": {
  "kernelspec": {
   "display_name": "Python 3 (ipykernel)",
   "language": "python",
   "name": "python3"
  },
  "language_info": {
   "codemirror_mode": {
    "name": "ipython",
    "version": 3
   },
   "file_extension": ".py",
   "mimetype": "text/x-python",
   "name": "python",
   "nbconvert_exporter": "python",
   "pygments_lexer": "ipython3",
   "version": "3.9.13"
  }
 },
 "nbformat": 4,
 "nbformat_minor": 5
}
